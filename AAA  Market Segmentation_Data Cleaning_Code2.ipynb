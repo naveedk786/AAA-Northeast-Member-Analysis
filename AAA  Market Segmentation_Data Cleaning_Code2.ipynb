{
 "cells": [
  {
   "cell_type": "markdown",
   "metadata": {},
   "source": [
    "## <span style=\"color:brown\">BIG BANG DATA SCIENCE\n",
    "## <span style=\"color:brown\">Capstone Project - Code #2\n"
   ]
  },
  {
   "cell_type": "markdown",
   "metadata": {},
   "source": [
    "## <span style=\"color:green\">Project: AAA Market Segmentation\n",
    "#### <span style=\"color:green\">Author: Naveed Khan (naveedk786@yahoo.com)\n",
    "***"
   ]
  },
  {
   "cell_type": "markdown",
   "metadata": {},
   "source": [
    "![AAA-logo.jpg](AAA-logo.jpg)"
   ]
  },
  {
   "cell_type": "markdown",
   "metadata": {},
   "source": [
    "<a id=\"project-overview\"></a>\n",
    "# <span style=\"color:blue\">Project Overview"
   ]
  },
  {
   "cell_type": "markdown",
   "metadata": {},
   "source": [
    "<div class=\"alert alert-block alert-info\"> \n",
    "\n",
    "1.  Provide a market segmentation of AAA members (or member households) that allows AAA Northeast to better serve their members\n",
    "2.  Develop a series of “look-alike” models to determine the probability of purchasing each product.  Validate your models.\n",
    "3.  Develop models to predict the likelihood of using roadside service as well as the total cost of roadside usage.  "
   ]
  },
  {
   "cell_type": "markdown",
   "metadata": {},
   "source": [
    "**Importing necessary Libraries**"
   ]
  },
  {
   "cell_type": "code",
   "execution_count": 1,
   "metadata": {},
   "outputs": [],
   "source": [
    "# Importing the libraries\n",
    "import numpy as np\n",
    "import matplotlib.pyplot as plt\n",
    "import pandas as pd\n",
    "pd.set_option('display.max_columns', 70)\n",
    "import seaborn as sns\n",
    "sns.set()  #  Will import Seaborn functionalities\n",
    "# we don't like warnings\n",
    "# you can comment the following 2 lines if you'd like to\n",
    "import warnings\n",
    "warnings.filterwarnings('ignore')\n"
   ]
  },
  {
   "cell_type": "markdown",
   "metadata": {},
   "source": [
    "**Reading csv Data**"
   ]
  },
  {
   "cell_type": "code",
   "execution_count": 2,
   "metadata": {},
   "outputs": [],
   "source": [
    "pd.set_option('display.max_rows', None)\n",
    "pd.set_option('display.max_columns', None)\n",
    "pd.set_option('display.width', None)\n",
    "pd.set_option('display.max_colwidth', -1)"
   ]
  },
  {
   "cell_type": "code",
   "execution_count": 3,
   "metadata": {},
   "outputs": [],
   "source": [
    "aaa = pd.read_csv('aaa_data_Version2.csv')"
   ]
  },
  {
   "cell_type": "code",
   "execution_count": 4,
   "metadata": {},
   "outputs": [],
   "source": [
    "aaa = aaa.drop('Unnamed: 0', axis = 1)"
   ]
  },
  {
   "cell_type": "code",
   "execution_count": 5,
   "metadata": {},
   "outputs": [
    {
     "data": {
      "text/html": [
       "<div>\n",
       "<style scoped>\n",
       "    .dataframe tbody tr th:only-of-type {\n",
       "        vertical-align: middle;\n",
       "    }\n",
       "\n",
       "    .dataframe tbody tr th {\n",
       "        vertical-align: top;\n",
       "    }\n",
       "\n",
       "    .dataframe thead th {\n",
       "        text-align: right;\n",
       "    }\n",
       "</style>\n",
       "<table border=\"1\" class=\"dataframe\">\n",
       "  <thead>\n",
       "    <tr style=\"text-align: right;\">\n",
       "      <th></th>\n",
       "      <th>member_key</th>\n",
       "      <th>household_key</th>\n",
       "      <th>fsv_cmsi_flag</th>\n",
       "      <th>fsv_credit_card_flag</th>\n",
       "      <th>fsv_deposit_program_flag</th>\n",
       "      <th>fsv_home_equity_flag</th>\n",
       "      <th>fsv_id_theft_flag</th>\n",
       "      <th>fsv_mortgage_flag</th>\n",
       "      <th>ins_client_flag</th>\n",
       "      <th>trv_globalware_flag</th>\n",
       "      <th>number_of_children</th>\n",
       "      <th>mail_responder</th>\n",
       "      <th>home_owner</th>\n",
       "      <th>income</th>\n",
       "      <th>dwelling_type</th>\n",
       "      <th>credit_ranges</th>\n",
       "      <th>do_not_direct_mail_solicit</th>\n",
       "      <th>ers_ent_count_year_1</th>\n",
       "      <th>ers_ent_count_year_2</th>\n",
       "      <th>ers_ent_count_year_3</th>\n",
       "      <th>ers_member_cost_year_1</th>\n",
       "      <th>ers_member_cost_year_2</th>\n",
       "      <th>ers_member_cost_year_3</th>\n",
       "      <th>member_tenure_years</th>\n",
       "      <th>member_type</th>\n",
       "      <th>opt_out___publication</th>\n",
       "      <th>mosaic_household</th>\n",
       "      <th>mosaic_global_household</th>\n",
       "      <th>kcl_b_ind_mosaicsgrouping</th>\n",
       "      <th>new_mover_flag</th>\n",
       "      <th>basic_cost</th>\n",
       "      <th>plus_cost</th>\n",
       "      <th>plus_indicator_description</th>\n",
       "      <th>premier_cost</th>\n",
       "      <th>sc_date</th>\n",
       "      <th>rec_id</th>\n",
       "      <th>total_cost</th>\n",
       "    </tr>\n",
       "  </thead>\n",
       "  <tbody>\n",
       "    <tr>\n",
       "      <th>0</th>\n",
       "      <td>1500014.0</td>\n",
       "      <td>4500791.0</td>\n",
       "      <td>N</td>\n",
       "      <td>Y</td>\n",
       "      <td>N</td>\n",
       "      <td>N</td>\n",
       "      <td>N</td>\n",
       "      <td>N</td>\n",
       "      <td>N</td>\n",
       "      <td>N</td>\n",
       "      <td>One Child</td>\n",
       "      <td>Yes</td>\n",
       "      <td>Home Owner</td>\n",
       "      <td>30-39,999</td>\n",
       "      <td>Small or large multi-family w/apt number</td>\n",
       "      <td>600-649</td>\n",
       "      <td>0.0</td>\n",
       "      <td>0.0</td>\n",
       "      <td>0.0</td>\n",
       "      <td>2.0</td>\n",
       "      <td>0.0</td>\n",
       "      <td>0.0</td>\n",
       "      <td>65.0</td>\n",
       "      <td>49.0</td>\n",
       "      <td>Primary</td>\n",
       "      <td>Opt-In</td>\n",
       "      <td>Senior Discounts</td>\n",
       "      <td>Low Income Elders</td>\n",
       "      <td>Golden Year Guardians</td>\n",
       "      <td>N</td>\n",
       "      <td>32.5</td>\n",
       "      <td>0.0</td>\n",
       "      <td>Basic Membership</td>\n",
       "      <td>0.0</td>\n",
       "      <td>2017-04-13 00:00:00</td>\n",
       "      <td>9707320.0</td>\n",
       "      <td>32.5</td>\n",
       "    </tr>\n",
       "    <tr>\n",
       "      <th>1</th>\n",
       "      <td>1500014.0</td>\n",
       "      <td>4500791.0</td>\n",
       "      <td>N</td>\n",
       "      <td>Y</td>\n",
       "      <td>N</td>\n",
       "      <td>N</td>\n",
       "      <td>N</td>\n",
       "      <td>N</td>\n",
       "      <td>N</td>\n",
       "      <td>N</td>\n",
       "      <td>One Child</td>\n",
       "      <td>Yes</td>\n",
       "      <td>Home Owner</td>\n",
       "      <td>30-39,999</td>\n",
       "      <td>Small or large multi-family w/apt number</td>\n",
       "      <td>600-649</td>\n",
       "      <td>0.0</td>\n",
       "      <td>0.0</td>\n",
       "      <td>0.0</td>\n",
       "      <td>2.0</td>\n",
       "      <td>0.0</td>\n",
       "      <td>0.0</td>\n",
       "      <td>65.0</td>\n",
       "      <td>49.0</td>\n",
       "      <td>Primary</td>\n",
       "      <td>Opt-In</td>\n",
       "      <td>Senior Discounts</td>\n",
       "      <td>Low Income Elders</td>\n",
       "      <td>Golden Year Guardians</td>\n",
       "      <td>N</td>\n",
       "      <td>30.0</td>\n",
       "      <td>0.0</td>\n",
       "      <td>Basic Membership</td>\n",
       "      <td>0.0</td>\n",
       "      <td>2016-07-26 00:00:00</td>\n",
       "      <td>6361198.0</td>\n",
       "      <td>30.0</td>\n",
       "    </tr>\n",
       "  </tbody>\n",
       "</table>\n",
       "</div>"
      ],
      "text/plain": [
       "   member_key  household_key fsv_cmsi_flag fsv_credit_card_flag  \\\n",
       "0  1500014.0   4500791.0      N             Y                     \n",
       "1  1500014.0   4500791.0      N             Y                     \n",
       "\n",
       "  fsv_deposit_program_flag fsv_home_equity_flag fsv_id_theft_flag  \\\n",
       "0  N                        N                    N                  \n",
       "1  N                        N                    N                  \n",
       "\n",
       "  fsv_mortgage_flag ins_client_flag trv_globalware_flag number_of_children  \\\n",
       "0  N                 N               N                   One Child           \n",
       "1  N                 N               N                   One Child           \n",
       "\n",
       "  mail_responder  home_owner     income  \\\n",
       "0  Yes            Home Owner  30-39,999   \n",
       "1  Yes            Home Owner  30-39,999   \n",
       "\n",
       "                              dwelling_type credit_ranges  \\\n",
       "0  Small or large multi-family w/apt number  600-649        \n",
       "1  Small or large multi-family w/apt number  600-649        \n",
       "\n",
       "   do_not_direct_mail_solicit  ers_ent_count_year_1  ers_ent_count_year_2  \\\n",
       "0  0.0                         0.0                   0.0                    \n",
       "1  0.0                         0.0                   0.0                    \n",
       "\n",
       "   ers_ent_count_year_3  ers_member_cost_year_1  ers_member_cost_year_2  \\\n",
       "0  2.0                   0.0                     0.0                      \n",
       "1  2.0                   0.0                     0.0                      \n",
       "\n",
       "   ers_member_cost_year_3  member_tenure_years member_type  \\\n",
       "0  65.0                    49.0                 Primary      \n",
       "1  65.0                    49.0                 Primary      \n",
       "\n",
       "  opt_out___publication  mosaic_household mosaic_global_household  \\\n",
       "0  Opt-In                Senior Discounts  Low Income Elders        \n",
       "1  Opt-In                Senior Discounts  Low Income Elders        \n",
       "\n",
       "  kcl_b_ind_mosaicsgrouping new_mover_flag  basic_cost  plus_cost  \\\n",
       "0  Golden Year Guardians     N              32.5        0.0         \n",
       "1  Golden Year Guardians     N              30.0        0.0         \n",
       "\n",
       "  plus_indicator_description  premier_cost              sc_date     rec_id  \\\n",
       "0  Basic Membership           0.0           2017-04-13 00:00:00  9707320.0   \n",
       "1  Basic Membership           0.0           2016-07-26 00:00:00  6361198.0   \n",
       "\n",
       "   total_cost  \n",
       "0  32.5        \n",
       "1  30.0        "
      ]
     },
     "execution_count": 5,
     "metadata": {},
     "output_type": "execute_result"
    }
   ],
   "source": [
    "aaa.head(2)"
   ]
  },
  {
   "cell_type": "code",
   "execution_count": 6,
   "metadata": {},
   "outputs": [
    {
     "data": {
      "text/plain": [
       "(13166, 37)"
      ]
     },
     "execution_count": 6,
     "metadata": {},
     "output_type": "execute_result"
    }
   ],
   "source": [
    "aaa.shape"
   ]
  },
  {
   "cell_type": "code",
   "execution_count": 7,
   "metadata": {},
   "outputs": [],
   "source": [
    "#aaa.info()"
   ]
  },
  {
   "cell_type": "code",
   "execution_count": 8,
   "metadata": {},
   "outputs": [],
   "source": [
    "#aaa.dtypes"
   ]
  },
  {
   "cell_type": "code",
   "execution_count": 9,
   "metadata": {},
   "outputs": [
    {
     "name": "stdout",
     "output_type": "stream",
     "text": [
      "Total Categorical features:  22\n",
      "Total Numerical features:  15\n"
     ]
    }
   ],
   "source": [
    "print(\"Total Categorical features: \",len(aaa.dtypes[aaa.dtypes == \"object\"].index.values))\n",
    "print(\"Total Numerical features: \",len(aaa.dtypes[aaa.dtypes != \"object\"].index.values))"
   ]
  },
  {
   "cell_type": "code",
   "execution_count": 10,
   "metadata": {},
   "outputs": [],
   "source": [
    "#aaa.dtypes"
   ]
  },
  {
   "cell_type": "markdown",
   "metadata": {},
   "source": [
    "## Features transformation"
   ]
  },
  {
   "cell_type": "markdown",
   "metadata": {},
   "source": [
    "Need to transfer categorical features to numerical. Will start with features that have Yes/No and then with Numbers as string, e.g., 'number_of_children', 'income' and 'credit_ranges'"
   ]
  },
  {
   "cell_type": "markdown",
   "metadata": {},
   "source": [
    "#### Convert all Categorical values with 'Yes / No' to '0 / 1'"
   ]
  },
  {
   "cell_type": "code",
   "execution_count": 11,
   "metadata": {},
   "outputs": [
    {
     "data": {
      "text/html": [
       "<div>\n",
       "<style scoped>\n",
       "    .dataframe tbody tr th:only-of-type {\n",
       "        vertical-align: middle;\n",
       "    }\n",
       "\n",
       "    .dataframe tbody tr th {\n",
       "        vertical-align: top;\n",
       "    }\n",
       "\n",
       "    .dataframe thead th {\n",
       "        text-align: right;\n",
       "    }\n",
       "</style>\n",
       "<table border=\"1\" class=\"dataframe\">\n",
       "  <thead>\n",
       "    <tr style=\"text-align: right;\">\n",
       "      <th></th>\n",
       "      <th>member_key</th>\n",
       "      <th>household_key</th>\n",
       "      <th>fsv_cmsi_flag</th>\n",
       "      <th>fsv_credit_card_flag</th>\n",
       "      <th>fsv_deposit_program_flag</th>\n",
       "      <th>fsv_home_equity_flag</th>\n",
       "      <th>fsv_id_theft_flag</th>\n",
       "      <th>fsv_mortgage_flag</th>\n",
       "      <th>ins_client_flag</th>\n",
       "      <th>trv_globalware_flag</th>\n",
       "      <th>number_of_children</th>\n",
       "      <th>mail_responder</th>\n",
       "      <th>home_owner</th>\n",
       "      <th>income</th>\n",
       "      <th>dwelling_type</th>\n",
       "      <th>credit_ranges</th>\n",
       "      <th>do_not_direct_mail_solicit</th>\n",
       "      <th>ers_ent_count_year_1</th>\n",
       "      <th>ers_ent_count_year_2</th>\n",
       "      <th>ers_ent_count_year_3</th>\n",
       "      <th>ers_member_cost_year_1</th>\n",
       "      <th>ers_member_cost_year_2</th>\n",
       "      <th>ers_member_cost_year_3</th>\n",
       "      <th>member_tenure_years</th>\n",
       "      <th>member_type</th>\n",
       "      <th>opt_out___publication</th>\n",
       "      <th>mosaic_household</th>\n",
       "      <th>mosaic_global_household</th>\n",
       "      <th>kcl_b_ind_mosaicsgrouping</th>\n",
       "      <th>new_mover_flag</th>\n",
       "      <th>basic_cost</th>\n",
       "      <th>plus_cost</th>\n",
       "      <th>plus_indicator_description</th>\n",
       "      <th>premier_cost</th>\n",
       "      <th>sc_date</th>\n",
       "      <th>rec_id</th>\n",
       "      <th>total_cost</th>\n",
       "    </tr>\n",
       "  </thead>\n",
       "  <tbody>\n",
       "    <tr>\n",
       "      <th>0</th>\n",
       "      <td>1500014.0</td>\n",
       "      <td>4500791.0</td>\n",
       "      <td>0</td>\n",
       "      <td>1</td>\n",
       "      <td>0</td>\n",
       "      <td>0</td>\n",
       "      <td>0</td>\n",
       "      <td>0</td>\n",
       "      <td>0</td>\n",
       "      <td>0</td>\n",
       "      <td>One Child</td>\n",
       "      <td>1.0</td>\n",
       "      <td>Home Owner</td>\n",
       "      <td>30-39,999</td>\n",
       "      <td>Small or large multi-family w/apt number</td>\n",
       "      <td>600-649</td>\n",
       "      <td>0.0</td>\n",
       "      <td>0.0</td>\n",
       "      <td>0.0</td>\n",
       "      <td>2.0</td>\n",
       "      <td>0.0</td>\n",
       "      <td>0.0</td>\n",
       "      <td>65.0</td>\n",
       "      <td>49.0</td>\n",
       "      <td>Primary</td>\n",
       "      <td>Opt-In</td>\n",
       "      <td>Senior Discounts</td>\n",
       "      <td>Low Income Elders</td>\n",
       "      <td>Golden Year Guardians</td>\n",
       "      <td>0</td>\n",
       "      <td>32.5</td>\n",
       "      <td>0.0</td>\n",
       "      <td>Basic Membership</td>\n",
       "      <td>0.0</td>\n",
       "      <td>2017-04-13 00:00:00</td>\n",
       "      <td>9707320.0</td>\n",
       "      <td>32.5</td>\n",
       "    </tr>\n",
       "    <tr>\n",
       "      <th>1</th>\n",
       "      <td>1500014.0</td>\n",
       "      <td>4500791.0</td>\n",
       "      <td>0</td>\n",
       "      <td>1</td>\n",
       "      <td>0</td>\n",
       "      <td>0</td>\n",
       "      <td>0</td>\n",
       "      <td>0</td>\n",
       "      <td>0</td>\n",
       "      <td>0</td>\n",
       "      <td>One Child</td>\n",
       "      <td>1.0</td>\n",
       "      <td>Home Owner</td>\n",
       "      <td>30-39,999</td>\n",
       "      <td>Small or large multi-family w/apt number</td>\n",
       "      <td>600-649</td>\n",
       "      <td>0.0</td>\n",
       "      <td>0.0</td>\n",
       "      <td>0.0</td>\n",
       "      <td>2.0</td>\n",
       "      <td>0.0</td>\n",
       "      <td>0.0</td>\n",
       "      <td>65.0</td>\n",
       "      <td>49.0</td>\n",
       "      <td>Primary</td>\n",
       "      <td>Opt-In</td>\n",
       "      <td>Senior Discounts</td>\n",
       "      <td>Low Income Elders</td>\n",
       "      <td>Golden Year Guardians</td>\n",
       "      <td>0</td>\n",
       "      <td>30.0</td>\n",
       "      <td>0.0</td>\n",
       "      <td>Basic Membership</td>\n",
       "      <td>0.0</td>\n",
       "      <td>2016-07-26 00:00:00</td>\n",
       "      <td>6361198.0</td>\n",
       "      <td>30.0</td>\n",
       "    </tr>\n",
       "  </tbody>\n",
       "</table>\n",
       "</div>"
      ],
      "text/plain": [
       "   member_key  household_key  fsv_cmsi_flag  fsv_credit_card_flag  \\\n",
       "0  1500014.0   4500791.0      0              1                      \n",
       "1  1500014.0   4500791.0      0              1                      \n",
       "\n",
       "   fsv_deposit_program_flag  fsv_home_equity_flag  fsv_id_theft_flag  \\\n",
       "0  0                         0                     0                   \n",
       "1  0                         0                     0                   \n",
       "\n",
       "   fsv_mortgage_flag  ins_client_flag  trv_globalware_flag number_of_children  \\\n",
       "0  0                  0                0                    One Child           \n",
       "1  0                  0                0                    One Child           \n",
       "\n",
       "   mail_responder  home_owner     income  \\\n",
       "0  1.0             Home Owner  30-39,999   \n",
       "1  1.0             Home Owner  30-39,999   \n",
       "\n",
       "                              dwelling_type credit_ranges  \\\n",
       "0  Small or large multi-family w/apt number  600-649        \n",
       "1  Small or large multi-family w/apt number  600-649        \n",
       "\n",
       "   do_not_direct_mail_solicit  ers_ent_count_year_1  ers_ent_count_year_2  \\\n",
       "0  0.0                         0.0                   0.0                    \n",
       "1  0.0                         0.0                   0.0                    \n",
       "\n",
       "   ers_ent_count_year_3  ers_member_cost_year_1  ers_member_cost_year_2  \\\n",
       "0  2.0                   0.0                     0.0                      \n",
       "1  2.0                   0.0                     0.0                      \n",
       "\n",
       "   ers_member_cost_year_3  member_tenure_years member_type  \\\n",
       "0  65.0                    49.0                 Primary      \n",
       "1  65.0                    49.0                 Primary      \n",
       "\n",
       "  opt_out___publication  mosaic_household mosaic_global_household  \\\n",
       "0  Opt-In                Senior Discounts  Low Income Elders        \n",
       "1  Opt-In                Senior Discounts  Low Income Elders        \n",
       "\n",
       "  kcl_b_ind_mosaicsgrouping  new_mover_flag  basic_cost  plus_cost  \\\n",
       "0  Golden Year Guardians     0               32.5        0.0         \n",
       "1  Golden Year Guardians     0               30.0        0.0         \n",
       "\n",
       "  plus_indicator_description  premier_cost              sc_date     rec_id  \\\n",
       "0  Basic Membership           0.0           2017-04-13 00:00:00  9707320.0   \n",
       "1  Basic Membership           0.0           2016-07-26 00:00:00  6361198.0   \n",
       "\n",
       "   total_cost  \n",
       "0  32.5        \n",
       "1  30.0        "
      ]
     },
     "execution_count": 11,
     "metadata": {},
     "output_type": "execute_result"
    }
   ],
   "source": [
    "aaa = aaa.replace(['Y', 'Yes'], 1).replace(['N', 'No'], 0)\n",
    "aaa.head(2)"
   ]
  },
  {
   "cell_type": "markdown",
   "metadata": {},
   "source": [
    "Lets see re-look at how many Categorical features converted to Numericl features"
   ]
  },
  {
   "cell_type": "code",
   "execution_count": 12,
   "metadata": {},
   "outputs": [
    {
     "name": "stdout",
     "output_type": "stream",
     "text": [
      "Total Categorical features:  12\n",
      "Total Numerical features:  25\n"
     ]
    }
   ],
   "source": [
    "print(\"Total Categorical features: \",len(aaa.dtypes[aaa.dtypes == \"object\"].index.values))\n",
    "print(\"Total Numerical features: \",len(aaa.dtypes[aaa.dtypes != \"object\"].index.values))"
   ]
  },
  {
   "cell_type": "code",
   "execution_count": 13,
   "metadata": {},
   "outputs": [
    {
     "data": {
      "text/plain": [
       "(13166, 37)"
      ]
     },
     "execution_count": 13,
     "metadata": {},
     "output_type": "execute_result"
    }
   ],
   "source": [
    "aaa.shape"
   ]
  },
  {
   "cell_type": "code",
   "execution_count": 14,
   "metadata": {},
   "outputs": [
    {
     "data": {
      "text/html": [
       "<div>\n",
       "<style scoped>\n",
       "    .dataframe tbody tr th:only-of-type {\n",
       "        vertical-align: middle;\n",
       "    }\n",
       "\n",
       "    .dataframe tbody tr th {\n",
       "        vertical-align: top;\n",
       "    }\n",
       "\n",
       "    .dataframe thead th {\n",
       "        text-align: right;\n",
       "    }\n",
       "</style>\n",
       "<table border=\"1\" class=\"dataframe\">\n",
       "  <thead>\n",
       "    <tr style=\"text-align: right;\">\n",
       "      <th></th>\n",
       "      <th>number_of_children</th>\n",
       "      <th>home_owner</th>\n",
       "      <th>income</th>\n",
       "      <th>dwelling_type</th>\n",
       "      <th>credit_ranges</th>\n",
       "      <th>member_type</th>\n",
       "      <th>opt_out___publication</th>\n",
       "      <th>mosaic_household</th>\n",
       "      <th>mosaic_global_household</th>\n",
       "      <th>kcl_b_ind_mosaicsgrouping</th>\n",
       "      <th>plus_indicator_description</th>\n",
       "      <th>sc_date</th>\n",
       "    </tr>\n",
       "  </thead>\n",
       "  <tbody>\n",
       "    <tr>\n",
       "      <th>0</th>\n",
       "      <td>One Child</td>\n",
       "      <td>Home Owner</td>\n",
       "      <td>30-39,999</td>\n",
       "      <td>Small or large multi-family w/apt number</td>\n",
       "      <td>600-649</td>\n",
       "      <td>Primary</td>\n",
       "      <td>Opt-In</td>\n",
       "      <td>Senior Discounts</td>\n",
       "      <td>Low Income Elders</td>\n",
       "      <td>Golden Year Guardians</td>\n",
       "      <td>Basic Membership</td>\n",
       "      <td>2017-04-13 00:00:00</td>\n",
       "    </tr>\n",
       "    <tr>\n",
       "      <th>1</th>\n",
       "      <td>One Child</td>\n",
       "      <td>Home Owner</td>\n",
       "      <td>30-39,999</td>\n",
       "      <td>Small or large multi-family w/apt number</td>\n",
       "      <td>600-649</td>\n",
       "      <td>Primary</td>\n",
       "      <td>Opt-In</td>\n",
       "      <td>Senior Discounts</td>\n",
       "      <td>Low Income Elders</td>\n",
       "      <td>Golden Year Guardians</td>\n",
       "      <td>Basic Membership</td>\n",
       "      <td>2016-07-26 00:00:00</td>\n",
       "    </tr>\n",
       "  </tbody>\n",
       "</table>\n",
       "</div>"
      ],
      "text/plain": [
       "  number_of_children  home_owner     income  \\\n",
       "0  One Child          Home Owner  30-39,999   \n",
       "1  One Child          Home Owner  30-39,999   \n",
       "\n",
       "                              dwelling_type credit_ranges member_type  \\\n",
       "0  Small or large multi-family w/apt number  600-649       Primary      \n",
       "1  Small or large multi-family w/apt number  600-649       Primary      \n",
       "\n",
       "  opt_out___publication  mosaic_household mosaic_global_household  \\\n",
       "0  Opt-In                Senior Discounts  Low Income Elders        \n",
       "1  Opt-In                Senior Discounts  Low Income Elders        \n",
       "\n",
       "  kcl_b_ind_mosaicsgrouping plus_indicator_description              sc_date  \n",
       "0  Golden Year Guardians     Basic Membership           2017-04-13 00:00:00  \n",
       "1  Golden Year Guardians     Basic Membership           2016-07-26 00:00:00  "
      ]
     },
     "execution_count": 14,
     "metadata": {},
     "output_type": "execute_result"
    }
   ],
   "source": [
    "aaa_cat_df = aaa.select_dtypes(include=['object']).copy()\n",
    "aaa_cat_df.head(2)"
   ]
  },
  {
   "cell_type": "code",
   "execution_count": 15,
   "metadata": {},
   "outputs": [
    {
     "data": {
      "text/plain": [
       "(13166, 12)"
      ]
     },
     "execution_count": 15,
     "metadata": {},
     "output_type": "execute_result"
    }
   ],
   "source": [
    "aaa_cat_df.shape"
   ]
  },
  {
   "cell_type": "code",
   "execution_count": 16,
   "metadata": {},
   "outputs": [
    {
     "data": {
      "text/html": [
       "<div>\n",
       "<style scoped>\n",
       "    .dataframe tbody tr th:only-of-type {\n",
       "        vertical-align: middle;\n",
       "    }\n",
       "\n",
       "    .dataframe tbody tr th {\n",
       "        vertical-align: top;\n",
       "    }\n",
       "\n",
       "    .dataframe thead th {\n",
       "        text-align: right;\n",
       "    }\n",
       "</style>\n",
       "<table border=\"1\" class=\"dataframe\">\n",
       "  <thead>\n",
       "    <tr style=\"text-align: right;\">\n",
       "      <th></th>\n",
       "      <th>member_key</th>\n",
       "      <th>household_key</th>\n",
       "      <th>fsv_cmsi_flag</th>\n",
       "      <th>fsv_credit_card_flag</th>\n",
       "      <th>fsv_deposit_program_flag</th>\n",
       "      <th>fsv_home_equity_flag</th>\n",
       "      <th>fsv_id_theft_flag</th>\n",
       "      <th>fsv_mortgage_flag</th>\n",
       "      <th>ins_client_flag</th>\n",
       "      <th>trv_globalware_flag</th>\n",
       "      <th>mail_responder</th>\n",
       "      <th>do_not_direct_mail_solicit</th>\n",
       "      <th>ers_ent_count_year_1</th>\n",
       "      <th>ers_ent_count_year_2</th>\n",
       "      <th>ers_ent_count_year_3</th>\n",
       "      <th>ers_member_cost_year_1</th>\n",
       "      <th>ers_member_cost_year_2</th>\n",
       "      <th>ers_member_cost_year_3</th>\n",
       "      <th>member_tenure_years</th>\n",
       "      <th>new_mover_flag</th>\n",
       "      <th>basic_cost</th>\n",
       "      <th>plus_cost</th>\n",
       "      <th>premier_cost</th>\n",
       "      <th>rec_id</th>\n",
       "      <th>total_cost</th>\n",
       "    </tr>\n",
       "  </thead>\n",
       "  <tbody>\n",
       "    <tr>\n",
       "      <th>0</th>\n",
       "      <td>1500014.0</td>\n",
       "      <td>4500791.0</td>\n",
       "      <td>0</td>\n",
       "      <td>1</td>\n",
       "      <td>0</td>\n",
       "      <td>0</td>\n",
       "      <td>0</td>\n",
       "      <td>0</td>\n",
       "      <td>0</td>\n",
       "      <td>0</td>\n",
       "      <td>1.0</td>\n",
       "      <td>0.0</td>\n",
       "      <td>0.0</td>\n",
       "      <td>0.0</td>\n",
       "      <td>2.0</td>\n",
       "      <td>0.0</td>\n",
       "      <td>0.0</td>\n",
       "      <td>65.0</td>\n",
       "      <td>49.0</td>\n",
       "      <td>0</td>\n",
       "      <td>32.5</td>\n",
       "      <td>0.0</td>\n",
       "      <td>0.0</td>\n",
       "      <td>9707320.0</td>\n",
       "      <td>32.5</td>\n",
       "    </tr>\n",
       "    <tr>\n",
       "      <th>1</th>\n",
       "      <td>1500014.0</td>\n",
       "      <td>4500791.0</td>\n",
       "      <td>0</td>\n",
       "      <td>1</td>\n",
       "      <td>0</td>\n",
       "      <td>0</td>\n",
       "      <td>0</td>\n",
       "      <td>0</td>\n",
       "      <td>0</td>\n",
       "      <td>0</td>\n",
       "      <td>1.0</td>\n",
       "      <td>0.0</td>\n",
       "      <td>0.0</td>\n",
       "      <td>0.0</td>\n",
       "      <td>2.0</td>\n",
       "      <td>0.0</td>\n",
       "      <td>0.0</td>\n",
       "      <td>65.0</td>\n",
       "      <td>49.0</td>\n",
       "      <td>0</td>\n",
       "      <td>30.0</td>\n",
       "      <td>0.0</td>\n",
       "      <td>0.0</td>\n",
       "      <td>6361198.0</td>\n",
       "      <td>30.0</td>\n",
       "    </tr>\n",
       "  </tbody>\n",
       "</table>\n",
       "</div>"
      ],
      "text/plain": [
       "   member_key  household_key  fsv_cmsi_flag  fsv_credit_card_flag  \\\n",
       "0  1500014.0   4500791.0      0              1                      \n",
       "1  1500014.0   4500791.0      0              1                      \n",
       "\n",
       "   fsv_deposit_program_flag  fsv_home_equity_flag  fsv_id_theft_flag  \\\n",
       "0  0                         0                     0                   \n",
       "1  0                         0                     0                   \n",
       "\n",
       "   fsv_mortgage_flag  ins_client_flag  trv_globalware_flag  mail_responder  \\\n",
       "0  0                  0                0                    1.0              \n",
       "1  0                  0                0                    1.0              \n",
       "\n",
       "   do_not_direct_mail_solicit  ers_ent_count_year_1  ers_ent_count_year_2  \\\n",
       "0  0.0                         0.0                   0.0                    \n",
       "1  0.0                         0.0                   0.0                    \n",
       "\n",
       "   ers_ent_count_year_3  ers_member_cost_year_1  ers_member_cost_year_2  \\\n",
       "0  2.0                   0.0                     0.0                      \n",
       "1  2.0                   0.0                     0.0                      \n",
       "\n",
       "   ers_member_cost_year_3  member_tenure_years  new_mover_flag  basic_cost  \\\n",
       "0  65.0                    49.0                 0               32.5         \n",
       "1  65.0                    49.0                 0               30.0         \n",
       "\n",
       "   plus_cost  premier_cost     rec_id  total_cost  \n",
       "0  0.0        0.0           9707320.0  32.5        \n",
       "1  0.0        0.0           6361198.0  30.0        "
      ]
     },
     "execution_count": 16,
     "metadata": {},
     "output_type": "execute_result"
    }
   ],
   "source": [
    "numerics = ['int16', 'int32', 'int64', 'float16', 'float32', 'float64']\n",
    "aaa_num_df = aaa.select_dtypes(include=numerics).copy()\n",
    "aaa_num_df.head(2)"
   ]
  },
  {
   "cell_type": "code",
   "execution_count": 17,
   "metadata": {},
   "outputs": [
    {
     "data": {
      "text/plain": [
       "(13166, 25)"
      ]
     },
     "execution_count": 17,
     "metadata": {},
     "output_type": "execute_result"
    }
   ],
   "source": [
    "aaa_num_df.shape"
   ]
  },
  {
   "cell_type": "code",
   "execution_count": null,
   "metadata": {},
   "outputs": [],
   "source": []
  },
  {
   "cell_type": "markdown",
   "metadata": {},
   "source": [
    "#### Convert Categorical values that are numerical string into numerical values"
   ]
  },
  {
   "cell_type": "code",
   "execution_count": 18,
   "metadata": {},
   "outputs": [],
   "source": [
    "income_range = {'Under 10K': 5000,'10-19,999': 15000,'20-29,999': 25000,\n",
    "               '30-39,999': 35000,'40-49,999': 45000,'50-59,999': 55000,\n",
    "                '60-69,999': 65000,'70-79,999': 75000,'80-89,999': 85000,\n",
    "                '90-99,999': 95000,'100-149,999': 125000,\n",
    "                '150 - 174,999': 162500,'175 - 199,999': 187500,\n",
    "                '200 - 249,999': 225000,'250K+': 250000}"
   ]
  },
  {
   "cell_type": "code",
   "execution_count": 19,
   "metadata": {},
   "outputs": [],
   "source": [
    "child_number = {'No children': 0,\n",
    "                'One Child': 1,\n",
    "                'Two Children': 2,\n",
    "                'Three Children': 3,\n",
    "                'Four Children': 4,\n",
    "                'Five Children': 5,\n",
    "                'Six Children': 6}"
   ]
  },
  {
   "cell_type": "code",
   "execution_count": 20,
   "metadata": {},
   "outputs": [],
   "source": [
    "credit_rating = {'499 & Less': 250,\n",
    "                 '500-549': 525,\n",
    "                 '550-599': 575,\n",
    "                 '600-649': 625,\n",
    "                 '650-699': 675,\n",
    "                 '700-749': 725,\n",
    "                 '750-799': 775,\n",
    "                 '800+': 800,\n",
    "                 'Unknown': np.nan}"
   ]
  },
  {
   "cell_type": "code",
   "execution_count": 21,
   "metadata": {},
   "outputs": [
    {
     "data": {
      "text/html": [
       "<div>\n",
       "<style scoped>\n",
       "    .dataframe tbody tr th:only-of-type {\n",
       "        vertical-align: middle;\n",
       "    }\n",
       "\n",
       "    .dataframe tbody tr th {\n",
       "        vertical-align: top;\n",
       "    }\n",
       "\n",
       "    .dataframe thead th {\n",
       "        text-align: right;\n",
       "    }\n",
       "</style>\n",
       "<table border=\"1\" class=\"dataframe\">\n",
       "  <thead>\n",
       "    <tr style=\"text-align: right;\">\n",
       "      <th></th>\n",
       "      <th>number_of_children</th>\n",
       "      <th>home_owner</th>\n",
       "      <th>income</th>\n",
       "      <th>dwelling_type</th>\n",
       "      <th>credit_ranges</th>\n",
       "      <th>member_type</th>\n",
       "      <th>opt_out___publication</th>\n",
       "      <th>mosaic_household</th>\n",
       "      <th>mosaic_global_household</th>\n",
       "      <th>kcl_b_ind_mosaicsgrouping</th>\n",
       "      <th>plus_indicator_description</th>\n",
       "      <th>sc_date</th>\n",
       "    </tr>\n",
       "  </thead>\n",
       "  <tbody>\n",
       "    <tr>\n",
       "      <th>0</th>\n",
       "      <td>1.0</td>\n",
       "      <td>Home Owner</td>\n",
       "      <td>35000.0</td>\n",
       "      <td>Small or large multi-family w/apt number</td>\n",
       "      <td>625.0</td>\n",
       "      <td>Primary</td>\n",
       "      <td>Opt-In</td>\n",
       "      <td>Senior Discounts</td>\n",
       "      <td>Low Income Elders</td>\n",
       "      <td>Golden Year Guardians</td>\n",
       "      <td>Basic Membership</td>\n",
       "      <td>2017-04-13 00:00:00</td>\n",
       "    </tr>\n",
       "    <tr>\n",
       "      <th>1</th>\n",
       "      <td>1.0</td>\n",
       "      <td>Home Owner</td>\n",
       "      <td>35000.0</td>\n",
       "      <td>Small or large multi-family w/apt number</td>\n",
       "      <td>625.0</td>\n",
       "      <td>Primary</td>\n",
       "      <td>Opt-In</td>\n",
       "      <td>Senior Discounts</td>\n",
       "      <td>Low Income Elders</td>\n",
       "      <td>Golden Year Guardians</td>\n",
       "      <td>Basic Membership</td>\n",
       "      <td>2016-07-26 00:00:00</td>\n",
       "    </tr>\n",
       "  </tbody>\n",
       "</table>\n",
       "</div>"
      ],
      "text/plain": [
       "   number_of_children  home_owner   income  \\\n",
       "0  1.0                 Home Owner  35000.0   \n",
       "1  1.0                 Home Owner  35000.0   \n",
       "\n",
       "                              dwelling_type  credit_ranges member_type  \\\n",
       "0  Small or large multi-family w/apt number  625.0          Primary      \n",
       "1  Small or large multi-family w/apt number  625.0          Primary      \n",
       "\n",
       "  opt_out___publication  mosaic_household mosaic_global_household  \\\n",
       "0  Opt-In                Senior Discounts  Low Income Elders        \n",
       "1  Opt-In                Senior Discounts  Low Income Elders        \n",
       "\n",
       "  kcl_b_ind_mosaicsgrouping plus_indicator_description              sc_date  \n",
       "0  Golden Year Guardians     Basic Membership           2017-04-13 00:00:00  \n",
       "1  Golden Year Guardians     Basic Membership           2016-07-26 00:00:00  "
      ]
     },
     "execution_count": 21,
     "metadata": {},
     "output_type": "execute_result"
    }
   ],
   "source": [
    "# Replace string with numbers as defined using dictionary above\n",
    "aaa_cat_df = aaa_cat_df.replace(child_number)\n",
    "aaa_cat_df = aaa_cat_df.replace(income_range)\n",
    "aaa_cat_df = aaa_cat_df.replace(credit_rating)\n",
    "aaa_cat_df.head(2)"
   ]
  },
  {
   "cell_type": "code",
   "execution_count": 22,
   "metadata": {},
   "outputs": [
    {
     "data": {
      "text/plain": [
       "(13166, 12)"
      ]
     },
     "execution_count": 22,
     "metadata": {},
     "output_type": "execute_result"
    }
   ],
   "source": [
    "aaa_cat_df.shape"
   ]
  },
  {
   "cell_type": "code",
   "execution_count": 23,
   "metadata": {},
   "outputs": [
    {
     "data": {
      "text/plain": [
       "((13166, 12), (13166, 25))"
      ]
     },
     "execution_count": 23,
     "metadata": {},
     "output_type": "execute_result"
    }
   ],
   "source": [
    "aaa_cat_df.shape,aaa_num_df.shape"
   ]
  },
  {
   "cell_type": "markdown",
   "metadata": {},
   "source": [
    "Replacing Categorical features with numerical strings with numerical values"
   ]
  },
  {
   "cell_type": "code",
   "execution_count": 24,
   "metadata": {},
   "outputs": [],
   "source": [
    "aaa['number_of_children'] = aaa_cat_df['number_of_children']\n",
    "aaa['credit_ranges']      = aaa_cat_df['credit_ranges']\n",
    "aaa['income']             = aaa_cat_df['income']\n"
   ]
  },
  {
   "cell_type": "code",
   "execution_count": 25,
   "metadata": {},
   "outputs": [
    {
     "data": {
      "text/html": [
       "<div>\n",
       "<style scoped>\n",
       "    .dataframe tbody tr th:only-of-type {\n",
       "        vertical-align: middle;\n",
       "    }\n",
       "\n",
       "    .dataframe tbody tr th {\n",
       "        vertical-align: top;\n",
       "    }\n",
       "\n",
       "    .dataframe thead th {\n",
       "        text-align: right;\n",
       "    }\n",
       "</style>\n",
       "<table border=\"1\" class=\"dataframe\">\n",
       "  <thead>\n",
       "    <tr style=\"text-align: right;\">\n",
       "      <th></th>\n",
       "      <th>member_key</th>\n",
       "      <th>household_key</th>\n",
       "      <th>fsv_cmsi_flag</th>\n",
       "      <th>fsv_credit_card_flag</th>\n",
       "      <th>fsv_deposit_program_flag</th>\n",
       "      <th>fsv_home_equity_flag</th>\n",
       "      <th>fsv_id_theft_flag</th>\n",
       "      <th>fsv_mortgage_flag</th>\n",
       "      <th>ins_client_flag</th>\n",
       "      <th>trv_globalware_flag</th>\n",
       "      <th>number_of_children</th>\n",
       "      <th>mail_responder</th>\n",
       "      <th>home_owner</th>\n",
       "      <th>income</th>\n",
       "      <th>dwelling_type</th>\n",
       "      <th>credit_ranges</th>\n",
       "      <th>do_not_direct_mail_solicit</th>\n",
       "      <th>ers_ent_count_year_1</th>\n",
       "      <th>ers_ent_count_year_2</th>\n",
       "      <th>ers_ent_count_year_3</th>\n",
       "      <th>ers_member_cost_year_1</th>\n",
       "      <th>ers_member_cost_year_2</th>\n",
       "      <th>ers_member_cost_year_3</th>\n",
       "      <th>member_tenure_years</th>\n",
       "      <th>member_type</th>\n",
       "      <th>opt_out___publication</th>\n",
       "      <th>mosaic_household</th>\n",
       "      <th>mosaic_global_household</th>\n",
       "      <th>kcl_b_ind_mosaicsgrouping</th>\n",
       "      <th>new_mover_flag</th>\n",
       "      <th>basic_cost</th>\n",
       "      <th>plus_cost</th>\n",
       "      <th>plus_indicator_description</th>\n",
       "      <th>premier_cost</th>\n",
       "      <th>sc_date</th>\n",
       "      <th>rec_id</th>\n",
       "      <th>total_cost</th>\n",
       "    </tr>\n",
       "  </thead>\n",
       "  <tbody>\n",
       "    <tr>\n",
       "      <th>0</th>\n",
       "      <td>1500014.0</td>\n",
       "      <td>4500791.0</td>\n",
       "      <td>0</td>\n",
       "      <td>1</td>\n",
       "      <td>0</td>\n",
       "      <td>0</td>\n",
       "      <td>0</td>\n",
       "      <td>0</td>\n",
       "      <td>0</td>\n",
       "      <td>0</td>\n",
       "      <td>1.0</td>\n",
       "      <td>1.0</td>\n",
       "      <td>Home Owner</td>\n",
       "      <td>35000.0</td>\n",
       "      <td>Small or large multi-family w/apt number</td>\n",
       "      <td>625.0</td>\n",
       "      <td>0.0</td>\n",
       "      <td>0.0</td>\n",
       "      <td>0.0</td>\n",
       "      <td>2.0</td>\n",
       "      <td>0.0</td>\n",
       "      <td>0.0</td>\n",
       "      <td>65.0</td>\n",
       "      <td>49.0</td>\n",
       "      <td>Primary</td>\n",
       "      <td>Opt-In</td>\n",
       "      <td>Senior Discounts</td>\n",
       "      <td>Low Income Elders</td>\n",
       "      <td>Golden Year Guardians</td>\n",
       "      <td>0</td>\n",
       "      <td>32.5</td>\n",
       "      <td>0.0</td>\n",
       "      <td>Basic Membership</td>\n",
       "      <td>0.0</td>\n",
       "      <td>2017-04-13 00:00:00</td>\n",
       "      <td>9707320.0</td>\n",
       "      <td>32.5</td>\n",
       "    </tr>\n",
       "    <tr>\n",
       "      <th>1</th>\n",
       "      <td>1500014.0</td>\n",
       "      <td>4500791.0</td>\n",
       "      <td>0</td>\n",
       "      <td>1</td>\n",
       "      <td>0</td>\n",
       "      <td>0</td>\n",
       "      <td>0</td>\n",
       "      <td>0</td>\n",
       "      <td>0</td>\n",
       "      <td>0</td>\n",
       "      <td>1.0</td>\n",
       "      <td>1.0</td>\n",
       "      <td>Home Owner</td>\n",
       "      <td>35000.0</td>\n",
       "      <td>Small or large multi-family w/apt number</td>\n",
       "      <td>625.0</td>\n",
       "      <td>0.0</td>\n",
       "      <td>0.0</td>\n",
       "      <td>0.0</td>\n",
       "      <td>2.0</td>\n",
       "      <td>0.0</td>\n",
       "      <td>0.0</td>\n",
       "      <td>65.0</td>\n",
       "      <td>49.0</td>\n",
       "      <td>Primary</td>\n",
       "      <td>Opt-In</td>\n",
       "      <td>Senior Discounts</td>\n",
       "      <td>Low Income Elders</td>\n",
       "      <td>Golden Year Guardians</td>\n",
       "      <td>0</td>\n",
       "      <td>30.0</td>\n",
       "      <td>0.0</td>\n",
       "      <td>Basic Membership</td>\n",
       "      <td>0.0</td>\n",
       "      <td>2016-07-26 00:00:00</td>\n",
       "      <td>6361198.0</td>\n",
       "      <td>30.0</td>\n",
       "    </tr>\n",
       "  </tbody>\n",
       "</table>\n",
       "</div>"
      ],
      "text/plain": [
       "   member_key  household_key  fsv_cmsi_flag  fsv_credit_card_flag  \\\n",
       "0  1500014.0   4500791.0      0              1                      \n",
       "1  1500014.0   4500791.0      0              1                      \n",
       "\n",
       "   fsv_deposit_program_flag  fsv_home_equity_flag  fsv_id_theft_flag  \\\n",
       "0  0                         0                     0                   \n",
       "1  0                         0                     0                   \n",
       "\n",
       "   fsv_mortgage_flag  ins_client_flag  trv_globalware_flag  \\\n",
       "0  0                  0                0                     \n",
       "1  0                  0                0                     \n",
       "\n",
       "   number_of_children  mail_responder  home_owner   income  \\\n",
       "0  1.0                 1.0             Home Owner  35000.0   \n",
       "1  1.0                 1.0             Home Owner  35000.0   \n",
       "\n",
       "                              dwelling_type  credit_ranges  \\\n",
       "0  Small or large multi-family w/apt number  625.0           \n",
       "1  Small or large multi-family w/apt number  625.0           \n",
       "\n",
       "   do_not_direct_mail_solicit  ers_ent_count_year_1  ers_ent_count_year_2  \\\n",
       "0  0.0                         0.0                   0.0                    \n",
       "1  0.0                         0.0                   0.0                    \n",
       "\n",
       "   ers_ent_count_year_3  ers_member_cost_year_1  ers_member_cost_year_2  \\\n",
       "0  2.0                   0.0                     0.0                      \n",
       "1  2.0                   0.0                     0.0                      \n",
       "\n",
       "   ers_member_cost_year_3  member_tenure_years member_type  \\\n",
       "0  65.0                    49.0                 Primary      \n",
       "1  65.0                    49.0                 Primary      \n",
       "\n",
       "  opt_out___publication  mosaic_household mosaic_global_household  \\\n",
       "0  Opt-In                Senior Discounts  Low Income Elders        \n",
       "1  Opt-In                Senior Discounts  Low Income Elders        \n",
       "\n",
       "  kcl_b_ind_mosaicsgrouping  new_mover_flag  basic_cost  plus_cost  \\\n",
       "0  Golden Year Guardians     0               32.5        0.0         \n",
       "1  Golden Year Guardians     0               30.0        0.0         \n",
       "\n",
       "  plus_indicator_description  premier_cost              sc_date     rec_id  \\\n",
       "0  Basic Membership           0.0           2017-04-13 00:00:00  9707320.0   \n",
       "1  Basic Membership           0.0           2016-07-26 00:00:00  6361198.0   \n",
       "\n",
       "   total_cost  \n",
       "0  32.5        \n",
       "1  30.0        "
      ]
     },
     "execution_count": 25,
     "metadata": {},
     "output_type": "execute_result"
    }
   ],
   "source": [
    "aaa.head(2)"
   ]
  },
  {
   "cell_type": "code",
   "execution_count": 26,
   "metadata": {},
   "outputs": [
    {
     "data": {
      "text/plain": [
       "(13166, 37)"
      ]
     },
     "execution_count": 26,
     "metadata": {},
     "output_type": "execute_result"
    }
   ],
   "source": [
    "aaa.shape"
   ]
  },
  {
   "cell_type": "markdown",
   "metadata": {},
   "source": [
    "<a id=\"I\"></a>\n",
    "\n",
    "## <span style=\"color:blue\"> Data Cleaning: Impute missing values"
   ]
  },
  {
   "cell_type": "code",
   "execution_count": 27,
   "metadata": {},
   "outputs": [],
   "source": [
    "aaa_num_columns = aaa.select_dtypes(include=numerics).copy()"
   ]
  },
  {
   "cell_type": "code",
   "execution_count": 28,
   "metadata": {},
   "outputs": [
    {
     "data": {
      "text/html": [
       "<div>\n",
       "<style scoped>\n",
       "    .dataframe tbody tr th:only-of-type {\n",
       "        vertical-align: middle;\n",
       "    }\n",
       "\n",
       "    .dataframe tbody tr th {\n",
       "        vertical-align: top;\n",
       "    }\n",
       "\n",
       "    .dataframe thead th {\n",
       "        text-align: right;\n",
       "    }\n",
       "</style>\n",
       "<table border=\"1\" class=\"dataframe\">\n",
       "  <thead>\n",
       "    <tr style=\"text-align: right;\">\n",
       "      <th></th>\n",
       "      <th>member_key</th>\n",
       "      <th>household_key</th>\n",
       "      <th>fsv_cmsi_flag</th>\n",
       "      <th>fsv_credit_card_flag</th>\n",
       "      <th>fsv_deposit_program_flag</th>\n",
       "      <th>fsv_home_equity_flag</th>\n",
       "      <th>fsv_id_theft_flag</th>\n",
       "      <th>fsv_mortgage_flag</th>\n",
       "      <th>ins_client_flag</th>\n",
       "      <th>trv_globalware_flag</th>\n",
       "      <th>number_of_children</th>\n",
       "      <th>mail_responder</th>\n",
       "      <th>income</th>\n",
       "      <th>credit_ranges</th>\n",
       "      <th>do_not_direct_mail_solicit</th>\n",
       "      <th>ers_ent_count_year_1</th>\n",
       "      <th>ers_ent_count_year_2</th>\n",
       "      <th>ers_ent_count_year_3</th>\n",
       "      <th>ers_member_cost_year_1</th>\n",
       "      <th>ers_member_cost_year_2</th>\n",
       "      <th>ers_member_cost_year_3</th>\n",
       "      <th>member_tenure_years</th>\n",
       "      <th>new_mover_flag</th>\n",
       "      <th>basic_cost</th>\n",
       "      <th>plus_cost</th>\n",
       "      <th>premier_cost</th>\n",
       "      <th>rec_id</th>\n",
       "      <th>total_cost</th>\n",
       "    </tr>\n",
       "  </thead>\n",
       "  <tbody>\n",
       "    <tr>\n",
       "      <th>0</th>\n",
       "      <td>1500014.0</td>\n",
       "      <td>4500791.0</td>\n",
       "      <td>0</td>\n",
       "      <td>1</td>\n",
       "      <td>0</td>\n",
       "      <td>0</td>\n",
       "      <td>0</td>\n",
       "      <td>0</td>\n",
       "      <td>0</td>\n",
       "      <td>0</td>\n",
       "      <td>1.0</td>\n",
       "      <td>1.0</td>\n",
       "      <td>35000.0</td>\n",
       "      <td>625.0</td>\n",
       "      <td>0.0</td>\n",
       "      <td>0.0</td>\n",
       "      <td>0.0</td>\n",
       "      <td>2.0</td>\n",
       "      <td>0.0</td>\n",
       "      <td>0.0</td>\n",
       "      <td>65.0</td>\n",
       "      <td>49.0</td>\n",
       "      <td>0</td>\n",
       "      <td>32.5</td>\n",
       "      <td>0.0</td>\n",
       "      <td>0.0</td>\n",
       "      <td>9707320.0</td>\n",
       "      <td>32.5</td>\n",
       "    </tr>\n",
       "    <tr>\n",
       "      <th>1</th>\n",
       "      <td>1500014.0</td>\n",
       "      <td>4500791.0</td>\n",
       "      <td>0</td>\n",
       "      <td>1</td>\n",
       "      <td>0</td>\n",
       "      <td>0</td>\n",
       "      <td>0</td>\n",
       "      <td>0</td>\n",
       "      <td>0</td>\n",
       "      <td>0</td>\n",
       "      <td>1.0</td>\n",
       "      <td>1.0</td>\n",
       "      <td>35000.0</td>\n",
       "      <td>625.0</td>\n",
       "      <td>0.0</td>\n",
       "      <td>0.0</td>\n",
       "      <td>0.0</td>\n",
       "      <td>2.0</td>\n",
       "      <td>0.0</td>\n",
       "      <td>0.0</td>\n",
       "      <td>65.0</td>\n",
       "      <td>49.0</td>\n",
       "      <td>0</td>\n",
       "      <td>30.0</td>\n",
       "      <td>0.0</td>\n",
       "      <td>0.0</td>\n",
       "      <td>6361198.0</td>\n",
       "      <td>30.0</td>\n",
       "    </tr>\n",
       "  </tbody>\n",
       "</table>\n",
       "</div>"
      ],
      "text/plain": [
       "   member_key  household_key  fsv_cmsi_flag  fsv_credit_card_flag  \\\n",
       "0  1500014.0   4500791.0      0              1                      \n",
       "1  1500014.0   4500791.0      0              1                      \n",
       "\n",
       "   fsv_deposit_program_flag  fsv_home_equity_flag  fsv_id_theft_flag  \\\n",
       "0  0                         0                     0                   \n",
       "1  0                         0                     0                   \n",
       "\n",
       "   fsv_mortgage_flag  ins_client_flag  trv_globalware_flag  \\\n",
       "0  0                  0                0                     \n",
       "1  0                  0                0                     \n",
       "\n",
       "   number_of_children  mail_responder   income  credit_ranges  \\\n",
       "0  1.0                 1.0             35000.0  625.0           \n",
       "1  1.0                 1.0             35000.0  625.0           \n",
       "\n",
       "   do_not_direct_mail_solicit  ers_ent_count_year_1  ers_ent_count_year_2  \\\n",
       "0  0.0                         0.0                   0.0                    \n",
       "1  0.0                         0.0                   0.0                    \n",
       "\n",
       "   ers_ent_count_year_3  ers_member_cost_year_1  ers_member_cost_year_2  \\\n",
       "0  2.0                   0.0                     0.0                      \n",
       "1  2.0                   0.0                     0.0                      \n",
       "\n",
       "   ers_member_cost_year_3  member_tenure_years  new_mover_flag  basic_cost  \\\n",
       "0  65.0                    49.0                 0               32.5         \n",
       "1  65.0                    49.0                 0               30.0         \n",
       "\n",
       "   plus_cost  premier_cost     rec_id  total_cost  \n",
       "0  0.0        0.0           9707320.0  32.5        \n",
       "1  0.0        0.0           6361198.0  30.0        "
      ]
     },
     "execution_count": 28,
     "metadata": {},
     "output_type": "execute_result"
    }
   ],
   "source": [
    "aaa_num_columns.head(2)"
   ]
  },
  {
   "cell_type": "markdown",
   "metadata": {},
   "source": [
    "**Define a function to identify columns with missing values**"
   ]
  },
  {
   "cell_type": "code",
   "execution_count": 29,
   "metadata": {},
   "outputs": [
    {
     "name": "stdout",
     "output_type": "stream",
     "text": [
      "Your selected dataframe has 37 columns and 13166 Rows.\n",
      "There are 16 columns that have missing values.\n"
     ]
    },
    {
     "data": {
      "text/html": [
       "<div>\n",
       "<style scoped>\n",
       "    .dataframe tbody tr th:only-of-type {\n",
       "        vertical-align: middle;\n",
       "    }\n",
       "\n",
       "    .dataframe tbody tr th {\n",
       "        vertical-align: top;\n",
       "    }\n",
       "\n",
       "    .dataframe thead th {\n",
       "        text-align: right;\n",
       "    }\n",
       "</style>\n",
       "<table border=\"1\" class=\"dataframe\">\n",
       "  <thead>\n",
       "    <tr style=\"text-align: right;\">\n",
       "      <th></th>\n",
       "      <th>Zero Values</th>\n",
       "      <th>Missing Values</th>\n",
       "      <th>% of Total Values</th>\n",
       "      <th>Total_Zero_Missing Values</th>\n",
       "      <th>% Total_Zero_Missing Values</th>\n",
       "      <th>Data Type</th>\n",
       "    </tr>\n",
       "  </thead>\n",
       "  <tbody>\n",
       "    <tr>\n",
       "      <th>credit_ranges</th>\n",
       "      <td>0</td>\n",
       "      <td>3854</td>\n",
       "      <td>29.3</td>\n",
       "      <td>3854</td>\n",
       "      <td>29.3</td>\n",
       "      <td>float64</td>\n",
       "    </tr>\n",
       "    <tr>\n",
       "      <th>home_owner</th>\n",
       "      <td>0</td>\n",
       "      <td>3786</td>\n",
       "      <td>28.8</td>\n",
       "      <td>3786</td>\n",
       "      <td>28.8</td>\n",
       "      <td>object</td>\n",
       "    </tr>\n",
       "    <tr>\n",
       "      <th>income</th>\n",
       "      <td>0</td>\n",
       "      <td>3597</td>\n",
       "      <td>27.3</td>\n",
       "      <td>3597</td>\n",
       "      <td>27.3</td>\n",
       "      <td>float64</td>\n",
       "    </tr>\n",
       "    <tr>\n",
       "      <th>number_of_children</th>\n",
       "      <td>4336</td>\n",
       "      <td>3555</td>\n",
       "      <td>27.0</td>\n",
       "      <td>7891</td>\n",
       "      <td>59.9</td>\n",
       "      <td>float64</td>\n",
       "    </tr>\n",
       "    <tr>\n",
       "      <th>mail_responder</th>\n",
       "      <td>384</td>\n",
       "      <td>3555</td>\n",
       "      <td>27.0</td>\n",
       "      <td>3939</td>\n",
       "      <td>29.9</td>\n",
       "      <td>float64</td>\n",
       "    </tr>\n",
       "    <tr>\n",
       "      <th>mosaic_household</th>\n",
       "      <td>0</td>\n",
       "      <td>3003</td>\n",
       "      <td>22.8</td>\n",
       "      <td>3003</td>\n",
       "      <td>22.8</td>\n",
       "      <td>object</td>\n",
       "    </tr>\n",
       "    <tr>\n",
       "      <th>mosaic_global_household</th>\n",
       "      <td>0</td>\n",
       "      <td>3003</td>\n",
       "      <td>22.8</td>\n",
       "      <td>3003</td>\n",
       "      <td>22.8</td>\n",
       "      <td>object</td>\n",
       "    </tr>\n",
       "    <tr>\n",
       "      <th>kcl_b_ind_mosaicsgrouping</th>\n",
       "      <td>0</td>\n",
       "      <td>3003</td>\n",
       "      <td>22.8</td>\n",
       "      <td>3003</td>\n",
       "      <td>22.8</td>\n",
       "      <td>object</td>\n",
       "    </tr>\n",
       "    <tr>\n",
       "      <th>dwelling_type</th>\n",
       "      <td>0</td>\n",
       "      <td>2993</td>\n",
       "      <td>22.7</td>\n",
       "      <td>2993</td>\n",
       "      <td>22.7</td>\n",
       "      <td>object</td>\n",
       "    </tr>\n",
       "    <tr>\n",
       "      <th>premier_cost</th>\n",
       "      <td>11100</td>\n",
       "      <td>2063</td>\n",
       "      <td>15.7</td>\n",
       "      <td>13163</td>\n",
       "      <td>100.0</td>\n",
       "      <td>float64</td>\n",
       "    </tr>\n",
       "    <tr>\n",
       "      <th>basic_cost</th>\n",
       "      <td>451</td>\n",
       "      <td>2035</td>\n",
       "      <td>15.5</td>\n",
       "      <td>2486</td>\n",
       "      <td>18.9</td>\n",
       "      <td>float64</td>\n",
       "    </tr>\n",
       "    <tr>\n",
       "      <th>plus_cost</th>\n",
       "      <td>10096</td>\n",
       "      <td>2035</td>\n",
       "      <td>15.5</td>\n",
       "      <td>12131</td>\n",
       "      <td>92.1</td>\n",
       "      <td>float64</td>\n",
       "    </tr>\n",
       "    <tr>\n",
       "      <th>total_cost</th>\n",
       "      <td>450</td>\n",
       "      <td>2035</td>\n",
       "      <td>15.5</td>\n",
       "      <td>2485</td>\n",
       "      <td>18.9</td>\n",
       "      <td>float64</td>\n",
       "    </tr>\n",
       "    <tr>\n",
       "      <th>plus_indicator_description</th>\n",
       "      <td>0</td>\n",
       "      <td>1988</td>\n",
       "      <td>15.1</td>\n",
       "      <td>1988</td>\n",
       "      <td>15.1</td>\n",
       "      <td>object</td>\n",
       "    </tr>\n",
       "    <tr>\n",
       "      <th>sc_date</th>\n",
       "      <td>0</td>\n",
       "      <td>1988</td>\n",
       "      <td>15.1</td>\n",
       "      <td>1988</td>\n",
       "      <td>15.1</td>\n",
       "      <td>object</td>\n",
       "    </tr>\n",
       "    <tr>\n",
       "      <th>rec_id</th>\n",
       "      <td>0</td>\n",
       "      <td>1988</td>\n",
       "      <td>15.1</td>\n",
       "      <td>1988</td>\n",
       "      <td>15.1</td>\n",
       "      <td>float64</td>\n",
       "    </tr>\n",
       "  </tbody>\n",
       "</table>\n",
       "</div>"
      ],
      "text/plain": [
       "                            Zero Values  Missing Values  % of Total Values  \\\n",
       "credit_ranges               0            3854            29.3                \n",
       "home_owner                  0            3786            28.8                \n",
       "income                      0            3597            27.3                \n",
       "number_of_children          4336         3555            27.0                \n",
       "mail_responder              384          3555            27.0                \n",
       "mosaic_household            0            3003            22.8                \n",
       "mosaic_global_household     0            3003            22.8                \n",
       "kcl_b_ind_mosaicsgrouping   0            3003            22.8                \n",
       "dwelling_type               0            2993            22.7                \n",
       "premier_cost                11100        2063            15.7                \n",
       "basic_cost                  451          2035            15.5                \n",
       "plus_cost                   10096        2035            15.5                \n",
       "total_cost                  450          2035            15.5                \n",
       "plus_indicator_description  0            1988            15.1                \n",
       "sc_date                     0            1988            15.1                \n",
       "rec_id                      0            1988            15.1                \n",
       "\n",
       "                            Total_Zero_Missing Values  \\\n",
       "credit_ranges               3854                        \n",
       "home_owner                  3786                        \n",
       "income                      3597                        \n",
       "number_of_children          7891                        \n",
       "mail_responder              3939                        \n",
       "mosaic_household            3003                        \n",
       "mosaic_global_household     3003                        \n",
       "kcl_b_ind_mosaicsgrouping   3003                        \n",
       "dwelling_type               2993                        \n",
       "premier_cost                13163                       \n",
       "basic_cost                  2486                        \n",
       "plus_cost                   12131                       \n",
       "total_cost                  2485                        \n",
       "plus_indicator_description  1988                        \n",
       "sc_date                     1988                        \n",
       "rec_id                      1988                        \n",
       "\n",
       "                            % Total_Zero_Missing Values Data Type  \n",
       "credit_ranges               29.3                         float64   \n",
       "home_owner                  28.8                         object    \n",
       "income                      27.3                         float64   \n",
       "number_of_children          59.9                         float64   \n",
       "mail_responder              29.9                         float64   \n",
       "mosaic_household            22.8                         object    \n",
       "mosaic_global_household     22.8                         object    \n",
       "kcl_b_ind_mosaicsgrouping   22.8                         object    \n",
       "dwelling_type               22.7                         object    \n",
       "premier_cost                100.0                        float64   \n",
       "basic_cost                  18.9                         float64   \n",
       "plus_cost                   92.1                         float64   \n",
       "total_cost                  18.9                         float64   \n",
       "plus_indicator_description  15.1                         object    \n",
       "sc_date                     15.1                         object    \n",
       "rec_id                      15.1                         float64   "
      ]
     },
     "execution_count": 29,
     "metadata": {},
     "output_type": "execute_result"
    }
   ],
   "source": [
    "def missing_zero_values_table(df):\n",
    "        zero_val = (aaa == 0.00).astype(int).sum(axis=0)\n",
    "        mis_val = aaa.isnull().sum()\n",
    "        mis_val_percent = mis_val * 100 / len(aaa)\n",
    "        mz_table = pd.concat([zero_val, mis_val, mis_val_percent], axis=1)\n",
    "        mz_table = mz_table.rename(\n",
    "        columns = {0 : 'Zero Values', 1 : 'Missing Values', 2 : '% of Total Values'})\n",
    "        mz_table['Total_Zero_Missing Values'] = mz_table['Zero Values'] + mz_table['Missing Values']\n",
    "        mz_table['% Total_Zero_Missing Values'] = 100 * mz_table['Total_Zero_Missing Values'] / len(aaa)\n",
    "        mz_table['Data Type'] = aaa.dtypes\n",
    "        mz_table = mz_table[\n",
    "            mz_table.iloc[:,1] != 0].sort_values(\n",
    "        '% of Total Values', ascending=False).round(1)\n",
    "        print (\"Your selected dataframe has \" + str(aaa.shape[1]) + \" columns and \" + str(aaa.shape[0]) + \" Rows.\\n\"      \n",
    "            \"There are \" + str(mz_table.shape[0]) +\n",
    "              \" columns that have missing values.\")\n",
    "\n",
    "        return mz_table\n",
    "\n",
    "missing_zero_values_table(aaa_num_columns)"
   ]
  },
  {
   "cell_type": "markdown",
   "metadata": {},
   "source": [
    "#### Lets replace missing numerical feature values with median"
   ]
  },
  {
   "cell_type": "markdown",
   "metadata": {},
   "source": [
    "If we do not get better accuracy with imputing missing values with \"median\", we may need to impute values with 'mean' or 'mode'"
   ]
  },
  {
   "cell_type": "code",
   "execution_count": 31,
   "metadata": {},
   "outputs": [],
   "source": [
    "aaa = aaa.fillna(aaa.median())"
   ]
  },
  {
   "cell_type": "code",
   "execution_count": 32,
   "metadata": {},
   "outputs": [
    {
     "name": "stdout",
     "output_type": "stream",
     "text": [
      "member_key                    0   \n",
      "household_key                 0   \n",
      "fsv_cmsi_flag                 0   \n",
      "fsv_credit_card_flag          0   \n",
      "fsv_deposit_program_flag      0   \n",
      "fsv_home_equity_flag          0   \n",
      "fsv_id_theft_flag             0   \n",
      "fsv_mortgage_flag             0   \n",
      "ins_client_flag               0   \n",
      "trv_globalware_flag           0   \n",
      "number_of_children            0   \n",
      "mail_responder                0   \n",
      "home_owner                    3786\n",
      "income                        0   \n",
      "dwelling_type                 2993\n",
      "credit_ranges                 0   \n",
      "do_not_direct_mail_solicit    0   \n",
      "ers_ent_count_year_1          0   \n",
      "ers_ent_count_year_2          0   \n",
      "ers_ent_count_year_3          0   \n",
      "ers_member_cost_year_1        0   \n",
      "ers_member_cost_year_2        0   \n",
      "ers_member_cost_year_3        0   \n",
      "member_tenure_years           0   \n",
      "member_type                   0   \n",
      "opt_out___publication         0   \n",
      "mosaic_household              3003\n",
      "mosaic_global_household       3003\n",
      "kcl_b_ind_mosaicsgrouping     3003\n",
      "new_mover_flag                0   \n",
      "basic_cost                    0   \n",
      "plus_cost                     0   \n",
      "plus_indicator_description    1988\n",
      "premier_cost                  0   \n",
      "sc_date                       1988\n",
      "rec_id                        0   \n",
      "total_cost                    0   \n",
      "dtype: int64\n"
     ]
    }
   ],
   "source": [
    "print(aaa.isnull().sum())"
   ]
  },
  {
   "cell_type": "markdown",
   "metadata": {},
   "source": [
    "### Imputing missing values for Categorical features with \"Not Set\""
   ]
  },
  {
   "cell_type": "code",
   "execution_count": 36,
   "metadata": {},
   "outputs": [],
   "source": [
    "aaa = aaa.replace(np.nan, 'Not Set')"
   ]
  },
  {
   "cell_type": "code",
   "execution_count": null,
   "metadata": {},
   "outputs": [],
   "source": [
    "#aaa_cat_columns = aaa_cat_columns.replace(np.nan, 'Not Set')"
   ]
  },
  {
   "cell_type": "markdown",
   "metadata": {},
   "source": [
    "------------"
   ]
  },
  {
   "cell_type": "markdown",
   "metadata": {},
   "source": [
    "### Data Visualization"
   ]
  },
  {
   "cell_type": "markdown",
   "metadata": {},
   "source": [
    "<a id=\"IV\"></a>\n",
    "### Visual Data Analysis in with SweetViz\n"
   ]
  },
  {
   "cell_type": "code",
   "execution_count": 37,
   "metadata": {},
   "outputs": [
    {
     "name": "stdout",
     "output_type": "stream",
     "text": [
      "Importing Libraries ... Done\n"
     ]
    }
   ],
   "source": [
    "# Import Libraries\n",
    "print('Importing Libraries ... ',end='')\n",
    "import sweetviz as sv\n",
    "import pandas as pd\n",
    "print('Done')"
   ]
  },
  {
   "cell_type": "code",
   "execution_count": 40,
   "metadata": {},
   "outputs": [
    {
     "data": {
      "application/vnd.jupyter.widget-view+json": {
       "model_id": "1b7f036708c14ee4b6edfd4697c011f4",
       "version_major": 2,
       "version_minor": 0
      },
      "text/plain": [
       "HBox(children=(HTML(value=''), FloatProgress(value=0.0, layout=Layout(flex='2'), max=38.0), HTML(value='')), l…"
      ]
     },
     "metadata": {},
     "output_type": "display_data"
    },
    {
     "name": "stdout",
     "output_type": "stream",
     "text": [
      "\n",
      "Report eda_report_cleandata.html was generated! NOTEBOOK/COLAB USERS: the web browser MAY not pop up, regardless, the report IS saved in your notebook/colab files.\n"
     ]
    }
   ],
   "source": [
    "# Analyzing data\n",
    "report=sv.analyze(aaa)\n",
    "\n",
    "# Generating report\n",
    "report.show_html('eda_report_cleandata.html')"
   ]
  },
  {
   "cell_type": "markdown",
   "metadata": {},
   "source": [
    "**Save the Clean Data File - Version2**"
   ]
  },
  {
   "cell_type": "code",
   "execution_count": 41,
   "metadata": {},
   "outputs": [],
   "source": [
    "aaa.to_csv('aaa_clean_data_V3.csv')\n"
   ]
  },
  {
   "cell_type": "code",
   "execution_count": null,
   "metadata": {},
   "outputs": [],
   "source": []
  }
 ],
 "metadata": {
  "kernelspec": {
   "display_name": "Python 3",
   "language": "python",
   "name": "python3"
  },
  "language_info": {
   "codemirror_mode": {
    "name": "ipython",
    "version": 3
   },
   "file_extension": ".py",
   "mimetype": "text/x-python",
   "name": "python",
   "nbconvert_exporter": "python",
   "pygments_lexer": "ipython3",
   "version": "3.8.5"
  }
 },
 "nbformat": 4,
 "nbformat_minor": 2
}
